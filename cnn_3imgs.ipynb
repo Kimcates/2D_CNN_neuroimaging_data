{
 "cells": [
  {
   "cell_type": "code",
   "execution_count": 3,
   "metadata": {},
   "outputs": [],
   "source": [
    "from keras.models import Sequential\n",
    "from keras.layers import Conv2D\n",
    "from keras.layers import MaxPooling2D\n",
    "from keras.layers import Flatten, Dropout\n",
    "from keras.layers import Dense\n",
    "from keras import optimizers\n",
    "from keras.regularizers import l2\n",
    "import nilearn"
   ]
  },
  {
   "cell_type": "code",
   "execution_count": 2,
   "metadata": {},
   "outputs": [],
   "source": [
    "#import tensorflow as tf"
   ]
  },
  {
   "cell_type": "code",
   "execution_count": 5,
   "metadata": {},
   "outputs": [
    {
     "name": "stderr",
     "output_type": "stream",
     "text": [
      "C:\\Users\\Kim\\Anaconda3\\lib\\site-packages\\ipykernel_launcher.py:9: UserWarning: Update your `Conv2D` call to the Keras 2 API: `Conv2D(32, (3, 3), kernel_regularizer=<keras.reg..., bias_regularizer=<keras.reg..., activation=\"relu\")`\n",
      "  if __name__ == '__main__':\n"
     ]
    }
   ],
   "source": [
    "\n",
    "classifier = Sequential()\n",
    "# convolution layer: weighted sum between two signals. Features are extracted at k x k sized matrices to calculate the convolution at a specific x, y location \n",
    "classifier.add(Conv2D(32, (3, 3), input_shape = (64, 64, 3), kernel_regularizer=l2(0.01), bias_regularizer=l2(0.01), activation = 'relu'))\n",
    "# Pooling \n",
    "classifier.add(MaxPooling2D(pool_size = (2, 2)))\n",
    "classifier.add(Dropout(0.25))\n",
    "# Add convolution layer 2 \n",
    "classifier.add(Conv2D(32,3,3,kernel_regularizer=l2(0.01), bias_regularizer=l2(0.01), activation='relu'))\n",
    "classifier.add(MaxPooling2D(pool_size=(2,2)))\n",
    "classifier.add(Dropout(0.25))\n",
    "# Flatten \n",
    "classifier.add(Flatten())\n",
    "\n",
    "# Full connection \n",
    "classifier.add(Dense(units = 128, activation = 'relu'))\n",
    "classifier.add(Dropout(0.4))\n",
    "classifier.add(Dense(units = 1, activation = 'sigmoid'))\n",
    "\n",
    "# compile\n",
    "classifier.compile(loss= 'binary_crossentropy', optimizer = 'Adam',metrics=['accuracy'])"
   ]
  },
  {
   "cell_type": "code",
   "execution_count": 6,
   "metadata": {},
   "outputs": [],
   "source": [
    "import numpy as np\n",
    "import pandas as pd\n",
    "import zipfile\n",
    "from keras.preprocessing.image import ImageDataGenerator"
   ]
  },
  {
   "cell_type": "code",
   "execution_count": 7,
   "metadata": {},
   "outputs": [
    {
     "name": "stdout",
     "output_type": "stream",
     "text": [
      "Found 906 images belonging to 2 classes.\n"
     ]
    },
    {
     "name": "stderr",
     "output_type": "stream",
     "text": [
      "C:\\Users\\Kim\\Anaconda3\\lib\\site-packages\\keras\\preprocessing\\image.py:440: DeprecationWarning: inspect.getargspec() is deprecated, use inspect.signature() or inspect.getfullargspec()\n",
      "  image.ImageDataGenerator.__init__).args:\n"
     ]
    }
   ],
   "source": [
    "train_datagen = ImageDataGenerator(rescale = 1./255,\n",
    "shear_range = 0.2,\n",
    "zoom_range = 0.5,\n",
    "horizontal_flip = True)\n",
    "test_datagen = ImageDataGenerator(rescale = 1./255)\n",
    "\n",
    "training_set = train_datagen.flow_from_directory('Train',\n",
    "target_size = (64, 64),\n",
    "class_mode = 'binary')"
   ]
  },
  {
   "cell_type": "code",
   "execution_count": 8,
   "metadata": {},
   "outputs": [
    {
     "name": "stdout",
     "output_type": "stream",
     "text": [
      "Found 366 images belonging to 2 classes.\n"
     ]
    }
   ],
   "source": [
    "test_set = test_datagen.flow_from_directory('Test',\n",
    "target_size = (64, 64),\n",
    "class_mode = 'binary')"
   ]
  },
  {
   "cell_type": "code",
   "execution_count": 9,
   "metadata": {},
   "outputs": [
    {
     "name": "stdout",
     "output_type": "stream",
     "text": [
      "_________________________________________________________________\n",
      "Layer (type)                 Output Shape              Param #   \n",
      "=================================================================\n",
      "conv2d_4 (Conv2D)            (None, 62, 62, 32)        896       \n",
      "_________________________________________________________________\n",
      "max_pooling2d_4 (MaxPooling2 (None, 31, 31, 32)        0         \n",
      "_________________________________________________________________\n",
      "dropout_2 (Dropout)          (None, 31, 31, 32)        0         \n",
      "_________________________________________________________________\n",
      "conv2d_5 (Conv2D)            (None, 29, 29, 32)        9248      \n",
      "_________________________________________________________________\n",
      "max_pooling2d_5 (MaxPooling2 (None, 14, 14, 32)        0         \n",
      "_________________________________________________________________\n",
      "dropout_3 (Dropout)          (None, 14, 14, 32)        0         \n",
      "_________________________________________________________________\n",
      "flatten_1 (Flatten)          (None, 6272)              0         \n",
      "_________________________________________________________________\n",
      "dense_1 (Dense)              (None, 128)               802944    \n",
      "_________________________________________________________________\n",
      "dropout_4 (Dropout)          (None, 128)               0         \n",
      "_________________________________________________________________\n",
      "dense_2 (Dense)              (None, 1)                 129       \n",
      "=================================================================\n",
      "Total params: 813,217\n",
      "Trainable params: 813,217\n",
      "Non-trainable params: 0\n",
      "_________________________________________________________________\n"
     ]
    }
   ],
   "source": [
    "classifier.summary()"
   ]
  },
  {
   "cell_type": "code",
   "execution_count": 10,
   "metadata": {},
   "outputs": [
    {
     "name": "stdout",
     "output_type": "stream",
     "text": [
      "WARNING:tensorflow:From C:\\Users\\Kim\\Anaconda3\\lib\\site-packages\\tensorflow\\python\\ops\\math_ops.py:3066: to_int32 (from tensorflow.python.ops.math_ops) is deprecated and will be removed in a future version.\n",
      "Instructions for updating:\n",
      "Use tf.cast instead.\n"
     ]
    },
    {
     "name": "stderr",
     "output_type": "stream",
     "text": [
      "C:\\Users\\Kim\\Anaconda3\\lib\\site-packages\\keras\\utils\\data_utils.py:651: DeprecationWarning: `wait_time` is not used anymore.\n",
      "  DeprecationWarning)\n"
     ]
    },
    {
     "name": "stdout",
     "output_type": "stream",
     "text": [
      "Epoch 1/25\n",
      "6000/6000 [==============================] - 833s 139ms/step - loss: 0.3839 - acc: 0.8451 - val_loss: 0.4122 - val_acc: 0.8361\n",
      "Epoch 2/25\n",
      "6000/6000 [==============================] - 827s 138ms/step - loss: 0.3186 - acc: 0.8776 - val_loss: 0.4429 - val_acc: 0.8307\n",
      "Epoch 3/25\n",
      "6000/6000 [==============================] - 834s 139ms/step - loss: 0.3014 - acc: 0.8852 - val_loss: 0.4842 - val_acc: 0.8333\n",
      "Epoch 4/25\n",
      "6000/6000 [==============================] - 833s 139ms/step - loss: 0.2898 - acc: 0.8923 - val_loss: 0.4890 - val_acc: 0.8443\n",
      "Epoch 5/25\n",
      "6000/6000 [==============================] - 831s 139ms/step - loss: 0.2791 - acc: 0.8976 - val_loss: 0.6831 - val_acc: 0.8223\n",
      "Epoch 6/25\n",
      "6000/6000 [==============================] - 831s 139ms/step - loss: 0.2684 - acc: 0.9026 - val_loss: 0.4897 - val_acc: 0.8443\n",
      "Epoch 7/25\n",
      "6000/6000 [==============================] - 830s 138ms/step - loss: 0.2325 - acc: 0.9215 - val_loss: 0.4237 - val_acc: 0.8661\n",
      "Epoch 13/25\n",
      "6000/6000 [==============================] - 828s 138ms/step - loss: 0.2296 - acc: 0.9230 - val_loss: 0.4151 - val_acc: 0.8524\n",
      "Epoch 14/25\n",
      "6000/6000 [==============================] - 829s 138ms/step - loss: 0.2267 - acc: 0.9245 - val_loss: 0.5093 - val_acc: 0.8417\n",
      "Epoch 15/25\n",
      "6000/6000 [==============================] - 825s 137ms/step - loss: 0.2234 - acc: 0.9255 - val_loss: 0.4794 - val_acc: 0.8742\n",
      "Epoch 16/25\n",
      "6000/6000 [==============================] - 828s 138ms/step - loss: 0.2193 - acc: 0.9284 - val_loss: 0.4870 - val_acc: 0.8634\n",
      "Epoch 17/25\n",
      "6000/6000 [==============================] - 830s 138ms/step - loss: 0.2161 - acc: 0.9301 - val_loss: 0.4643 - val_acc: 0.8825\n",
      "Epoch 18/25\n",
      "6000/6000 [==============================] - 824s 137ms/step - loss: 0.2115 - acc: 0.9313 - val_loss: 0.4224 - val_acc: 0.8798\n",
      "Epoch 20/25\n",
      "6000/6000 [==============================] - 825s 138ms/step - loss: 0.2082 - acc: 0.9326 - val_loss: 0.3849 - val_acc: 0.8963\n",
      "Epoch 21/25\n",
      "6000/6000 [==============================] - 825s 138ms/step - loss: 0.2077 - acc: 0.9334 - val_loss: 0.3666 - val_acc: 0.8989\n",
      "Epoch 22/25\n",
      "6000/6000 [==============================] - 826s 138ms/step - loss: 0.2076 - acc: 0.9342 - val_loss: 0.3831 - val_acc: 0.8907\n",
      "Epoch 23/25\n",
      "6000/6000 [==============================] - 823s 137ms/step - loss: 0.2072 - acc: 0.9332 - val_loss: 0.4091 - val_acc: 0.8770\n",
      "Epoch 24/25\n",
      "6000/6000 [==============================] - 824s 137ms/step - loss: 0.2007 - acc: 0.9361 - val_loss: 0.3846 - val_acc: 0.8715\n"
     ]
    }
   ],
   "source": [
    "model_3img = classifier.fit_generator(training_set,\n",
    "                        steps_per_epoch=6000,\n",
    "                        epochs=25,\n",
    "                        validation_data=test_set,\n",
    "                        validation_steps=2000,\n",
    "                        workers=4\n",
    "                        )"
   ]
  },
  {
   "cell_type": "code",
   "execution_count": 12,
   "metadata": {},
   "outputs": [],
   "source": [
    "accuracy = model_3img.history['acc']\n",
    "val_accuracy = model_3img.history['val_acc']\n",
    "loss = model_3img.history['loss']\n",
    "val_loss = model_3img.history['val_loss']\n",
    "epochs = range(len(accuracy))"
   ]
  },
  {
   "cell_type": "code",
   "execution_count": 30,
   "metadata": {},
   "outputs": [
    {
     "data": {
      "image/png": "[encoded data removed]",
      "text/plain": [
       "<Figure size 576x432 with 1 Axes>"
      ]
     },
     "metadata": {
      "needs_background": "light"
     },
     "output_type": "display_data"
    },
    {
     "data": {
      "image/png": "[encoded data removed]",
      "text/plain": [
       "<Figure size 576x432 with 1 Axes>"
      ]
     },
     "metadata": {
      "needs_background": "light"
     },
     "output_type": "display_data"
    }
   ],
   "source": [
    "import matplotlib.pyplot as plt\n",
    "%matplotlib inline\n",
    "\n",
    "plt.figure(figsize=(8,6))\n",
    "plt.plot(epochs, accuracy, 'bo', label='Training accuracy')\n",
    "plt.plot(epochs, val_accuracy, 'b', label='Validation accuracy')\n",
    "plt.title('Training and validation accuracy')\n",
    "plt.ylim(0,1)\n",
    "plt.xlabel('Epoch')\n",
    "plt.ylabel('Accuracy')\n",
    "plt.legend()\n",
    "plt.figure(figsize=(8,6))\n",
    "plt.plot(epochs, loss, 'bo', label='Training loss')\n",
    "plt.plot(epochs, val_loss, 'b', label='Validation loss')\n",
    "plt.title('Training and validation loss')\n",
    "plt.xlabel('Epoch')\n",
    "plt.ylabel('Loss')\n",
    "plt.ylim(0,1)\n",
    "plt.legend()\n",
    "plt.show()"
   ]
  },
  {
   "cell_type": "code",
   "execution_count": 24,
   "metadata": {},
   "outputs": [
    {
     "name": "stderr",
     "output_type": "stream",
     "text": [
      "C:\\Users\\Kim\\Anaconda3\\lib\\site-packages\\keras\\utils\\data_utils.py:651: DeprecationWarning: `wait_time` is not used anymore.\n",
      "  DeprecationWarning)\n"
     ]
    },
    {
     "data": {
      "text/plain": [
       "[0.384245078887371, 0.8791390726503158]"
      ]
     },
     "execution_count": 24,
     "metadata": {},
     "output_type": "execute_result"
    }
   ],
   "source": [
    "# test loss and accuracy \n",
    "classifier.evaluate_generator(generator=test_set, steps = 20)"
   ]
  },
  {
   "cell_type": "code",
   "execution_count": 25,
   "metadata": {},
   "outputs": [
    {
     "data": {
      "text/plain": [
       "[0.13729883532693857, 0.9676375404530745]"
      ]
     },
     "execution_count": 25,
     "metadata": {},
     "output_type": "execute_result"
    }
   ],
   "source": [
    "# train loss and accuracy \n",
    "classifier.evaluate_generator(generator= training_set, steps = 20)"
   ]
  },
  {
   "cell_type": "code",
   "execution_count": 26,
   "metadata": {},
   "outputs": [],
   "source": [
    "#labels = (test_set.class_indices)\n",
    "#labels = dict((v,k) for k,v in labels.items())\n",
    "#predictions = [labels[k] for k in predicted_class_indices]\n",
    "#predictions"
   ]
  }
 ],
 "metadata": {
  "kernelspec": {
   "display_name": "Python 3",
   "language": "python",
   "name": "python3"
  },
  "language_info": {
   "codemirror_mode": {
    "name": "ipython",
    "version": 3
   },
   "file_extension": ".py",
   "mimetype": "text/x-python",
   "name": "python",
   "nbconvert_exporter": "python",
   "pygments_lexer": "ipython3",
   "version": "3.7.1"
  }
 },
 "nbformat": 4,
 "nbformat_minor": 2
}
