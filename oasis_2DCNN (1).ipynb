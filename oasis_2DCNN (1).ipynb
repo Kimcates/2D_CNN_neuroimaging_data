{
 "cells": [
  {
   "cell_type": "code",
   "execution_count": 11,
   "metadata": {},
   "outputs": [],
   "source": [
    "\n",
    "from keras.models import Sequential\n",
    "from keras.layers import Conv2D\n",
    "from keras.layers import MaxPooling2D\n",
    "from keras.layers import Flatten\n",
    "from keras.layers import Dense\n",
    "from keras import optimizers\n",
    "import nilearn"
   ]
  },
  {
   "cell_type": "code",
   "execution_count": 20,
   "metadata": {},
   "outputs": [
    {
     "name": "stderr",
     "output_type": "stream",
     "text": [
      "C:\\Users\\Kim\\Anaconda3\\lib\\site-packages\\ipykernel_launcher.py:7: UserWarning: Update your `Conv2D` call to the Keras 2 API: `Conv2D(32, (3, 3), activation=\"relu\")`\n",
      "  import sys\n"
     ]
    }
   ],
   "source": [
    "classifier = Sequential()\n",
    "# convolution layer: weighted sum between two signals. Features are extracted at k x k sized matrices to calculate the convolution at a specific x, y location \n",
    "classifier.add(Conv2D(32, (3, 3), input_shape = (64, 64, 3), activation = 'relu'))\n",
    "# Pooling \n",
    "classifier.add(MaxPooling2D(pool_size = (2, 2)))\n",
    "# Add convolution layer 2 \n",
    "classifier.add(Conv2D(32,3,3,activation='relu'))\n",
    "classifier.add(MaxPooling2D(pool_size=(2,2)))\n",
    "# Flatten \n",
    "classifier.add(Flatten())\n",
    "\n",
    "# Full connection \n",
    "classifier.add(Dense(units = 128, activation = 'relu'))\n",
    "classifier.add(Dense(units = 1, activation = 'sigmoid'))\n",
    "\n",
    "# compile\n",
    "classifier.compile(loss= 'binary_crossentropy', optimizer = 'Adam',metrics=['accuracy'])"
   ]
  },
  {
   "cell_type": "code",
   "execution_count": 63,
   "metadata": {},
   "outputs": [],
   "source": [
    "import numpy as np\n",
    "import pandas as pd\n",
    "import zipfile\n",
    "from keras.preprocessing.image import ImageDataGenerator "
   ]
  },
  {
   "cell_type": "code",
   "execution_count": 57,
   "metadata": {},
   "outputs": [
    {
     "ename": "ImportError",
     "evalue": "cannot import name 'NiftiMasker'",
     "output_type": "error",
     "traceback": [
      "\u001b[1;31m---------------------------------------------------------------------------\u001b[0m",
      "\u001b[1;31mImportError\u001b[0m                               Traceback (most recent call last)",
      "\u001b[1;32m<ipython-input-57-67a133cf0f93>\u001b[0m in \u001b[0;36m<module>\u001b[1;34m\u001b[0m\n\u001b[0;32m      1\u001b[0m \u001b[1;31m# download oasis dataset on working directory\u001b[0m\u001b[1;33m\u001b[0m\u001b[1;33m\u001b[0m\u001b[1;33m\u001b[0m\u001b[0m\n\u001b[0;32m      2\u001b[0m \u001b[1;32mfrom\u001b[0m \u001b[0mnilearn\u001b[0m \u001b[1;32mimport\u001b[0m \u001b[0mdatasets\u001b[0m\u001b[1;33m\u001b[0m\u001b[1;33m\u001b[0m\u001b[0m\n\u001b[1;32m----> 3\u001b[1;33m \u001b[1;32mfrom\u001b[0m \u001b[0mnilearn\u001b[0m\u001b[1;33m.\u001b[0m\u001b[0minput_data\u001b[0m \u001b[1;32mimport\u001b[0m \u001b[0mNiftiMasker\u001b[0m\u001b[1;33m\u001b[0m\u001b[1;33m\u001b[0m\u001b[0m\n\u001b[0m\u001b[0;32m      4\u001b[0m \u001b[1;33m\u001b[0m\u001b[0m\n\u001b[0;32m      5\u001b[0m \u001b[1;32mfrom\u001b[0m \u001b[0mnilearn\u001b[0m\u001b[1;33m.\u001b[0m\u001b[0mimage\u001b[0m \u001b[1;32mimport\u001b[0m \u001b[0msmooth_img\u001b[0m\u001b[1;33m\u001b[0m\u001b[1;33m\u001b[0m\u001b[0m\n",
      "\u001b[1;31mImportError\u001b[0m: cannot import name 'NiftiMasker'"
     ]
    }
   ],
   "source": [
    "# download oasis dataset on working directory \n",
    "from nilearn import datasets\n",
    "from nilearn.input_data import NiftiMasker\n",
    "\n",
    "from nilearn.image import smooth_img\n",
    "import keras\n",
    "\n",
    "oasis_dataset = datasets.fetch_oasis_vbm(n_subjects= 416)"
   ]
  },
  {
   "cell_type": "code",
   "execution_count": 13,
   "metadata": {},
   "outputs": [],
   "source": [
    "#gm_imgs = np.array(oasis.gray_matter_maps)\n",
    "gray_matter_map_filenames = oasis_dataset.gray_matter_maps\n",
    "gm_imgs = gray_matter_map_filenames"
   ]
  },
  {
   "cell_type": "code",
   "execution_count": 16,
   "metadata": {},
   "outputs": [],
   "source": [
    "# create binary label by clinical dimentia rating (CDR)    \n",
    "cdr = oasis_dataset.ext_vars['cdr'].astype(float)\n",
    "cdr_numpy_arr = np.array(cdr)\n",
    "for i in range(len(cdr_numpy_arr)):\n",
    "    if(np.isnan(cdr_numpy_arr[i])): cdr_numpy_arr[i] = 1\n",
    "    \n",
    "    elif(cdr_numpy_arr[i] > 0.0): cdr_numpy_arr[i] = 1"
   ]
  },
  {
   "cell_type": "code",
   "execution_count": 16,
   "metadata": {},
   "outputs": [
    {
     "data": {
      "text/plain": [
       "'C:\\\\Users\\\\user\\\\Neural Networks'"
      ]
     },
     "execution_count": 16,
     "metadata": {},
     "output_type": "execute_result"
    }
   ],
   "source": [
    "pwd"
   ]
  },
  {
   "cell_type": "code",
   "execution_count": null,
   "metadata": {},
   "outputs": [],
   "source": []
  },
  {
   "cell_type": "code",
   "execution_count": 26,
   "metadata": {},
   "outputs": [
    {
     "name": "stdout",
     "output_type": "stream",
     "text": [
      "Found 282 images belonging to 2 classes.\n"
     ]
    }
   ],
   "source": [
    "train_datagen = ImageDataGenerator(rescale = 1./255,\n",
    "shear_range = 0.2,\n",
    "zoom_range = 0.2,\n",
    "horizontal_flip = True)\n",
    "test_datagen = ImageDataGenerator(rescale = 1./255)\n",
    "\n",
    "training_set = train_datagen.flow_from_directory('NiDataTrain',\n",
    "target_size = (64, 64),\n",
    "class_mode = 'binary')"
   ]
  },
  {
   "cell_type": "code",
   "execution_count": 25,
   "metadata": {},
   "outputs": [
    {
     "name": "stdout",
     "output_type": "stream",
     "text": [
      "Found 121 images belonging to 2 classes.\n"
     ]
    }
   ],
   "source": [
    "test_set = test_datagen.flow_from_directory('NiDataTest',\n",
    "target_size = (64, 64),\n",
    "class_mode = 'binary')"
   ]
  },
  {
   "cell_type": "code",
   "execution_count": 52,
   "metadata": {},
   "outputs": [
    {
     "data": {
      "text/plain": [
       "{'impaired': 0, 'not_impaired': 1}"
      ]
     },
     "execution_count": 52,
     "metadata": {},
     "output_type": "execute_result"
    }
   ],
   "source": [
    "test_set.class_indices"
   ]
  },
  {
   "cell_type": "code",
   "execution_count": 62,
   "metadata": {},
   "outputs": [
    {
     "ename": "AttributeError",
     "evalue": "module 'pandas' has no attribute 'DataFrame'",
     "output_type": "error",
     "traceback": [
      "\u001b[1;31m---------------------------------------------------------------------------\u001b[0m",
      "\u001b[1;31mAttributeError\u001b[0m                            Traceback (most recent call last)",
      "\u001b[1;32m<ipython-input-62-0bc415de1dab>\u001b[0m in \u001b[0;36m<module>\u001b[1;34m\u001b[0m\n\u001b[0;32m      2\u001b[0m \u001b[0mtest_labels\u001b[0m \u001b[1;33m=\u001b[0m \u001b[0mtest_set\u001b[0m\u001b[1;33m.\u001b[0m\u001b[0mclasses\u001b[0m\u001b[1;33m\u001b[0m\u001b[1;33m\u001b[0m\u001b[0m\n\u001b[0;32m      3\u001b[0m \u001b[0mtrain_labels\u001b[0m \u001b[1;33m=\u001b[0m \u001b[0mtraining_set\u001b[0m\u001b[1;33m.\u001b[0m\u001b[0mclasses\u001b[0m\u001b[1;33m\u001b[0m\u001b[1;33m\u001b[0m\u001b[0m\n\u001b[1;32m----> 4\u001b[1;33m \u001b[0mtesty\u001b[0m \u001b[1;33m=\u001b[0m \u001b[0mpd\u001b[0m\u001b[1;33m.\u001b[0m\u001b[0mDataFrame\u001b[0m\u001b[1;33m(\u001b[0m\u001b[0mtest_labels\u001b[0m\u001b[1;33m)\u001b[0m\u001b[1;33m\u001b[0m\u001b[1;33m\u001b[0m\u001b[0m\n\u001b[0m",
      "\u001b[1;31mAttributeError\u001b[0m: module 'pandas' has no attribute 'DataFrame'"
     ]
    }
   ],
   "source": [
    "\n",
    "test_labels = test_set.classes\n",
    "train_labels = training_set.classes\n",
    "testy = pd.DataFrame(test_labels)"
   ]
  },
  {
   "cell_type": "code",
   "execution_count": 18,
   "metadata": {},
   "outputs": [],
   "source": [
    "import keras\n",
    "from keras.utils import to_categorical\n",
    "\n",
    "label = keras.utils.to_categorical(cdr_numpy_arr, 2)"
   ]
  },
  {
   "cell_type": "code",
   "execution_count": 21,
   "metadata": {},
   "outputs": [
    {
     "name": "stdout",
     "output_type": "stream",
     "text": [
      "Epoch 1/25\n",
      "8000/8000 [==============================] - 1120s 140ms/step - loss: 0.0807 - acc: 0.9639 - val_loss: 3.1388 - val_acc: 0.6281\n",
      "Epoch 2/25\n",
      "8000/8000 [==============================] - 1129s 141ms/step - loss: 0.0067 - acc: 0.9978 - val_loss: 3.0886 - val_acc: 0.6529\n",
      "Epoch 3/25\n",
      "8000/8000 [==============================] - 1136s 142ms/step - loss: 0.0041 - acc: 0.9987 - val_loss: 3.7221 - val_acc: 0.5620\n",
      "Epoch 4/25\n",
      "8000/8000 [==============================] - 1213s 152ms/step - loss: 0.0037 - acc: 0.9988 - val_loss: 3.8837 - val_acc: 0.5950\n",
      "Epoch 5/25\n",
      "8000/8000 [==============================] - 1182s 148ms/step - loss: 0.0026 - acc: 0.9992 - val_loss: 3.6096 - val_acc: 0.6446\n",
      "Epoch 6/25\n",
      "8000/8000 [==============================] - 1194s 149ms/step - loss: 0.0025 - acc: 0.9993 - val_loss: 4.4392 - val_acc: 0.6281\n",
      "Epoch 7/25\n",
      "8000/8000 [==============================] - 1033s 129ms/step - loss: 8.3529e-04 - acc: 0.9998 - val_loss: 5.4622 - val_acc: 0.5868\n",
      "Epoch 12/25\n",
      "8000/8000 [==============================] - 1033s 129ms/step - loss: 0.0024 - acc: 0.9995 - val_loss: 4.7966 - val_acc: 0.5950\n",
      "Epoch 15/25\n",
      "8000/8000 [==============================] - 1033s 129ms/step - loss: 0.0013 - acc: 0.9997 - val_loss: 5.4277 - val_acc: 0.5455\n",
      "Epoch 16/25\n",
      "8000/8000 [==============================] - 1032s 129ms/step - loss: 9.0974e-04 - acc: 0.9998 - val_loss: 5.0635 - val_acc: 0.5950\n",
      "Epoch 17/25\n",
      "8000/8000 [==============================] - 1032s 129ms/step - loss: 0.0020 - acc: 0.9996 - val_loss: 5.6733 - val_acc: 0.6033\n",
      "Epoch 20/25\n",
      "6194/8000 [======================>.......] - ETA: 3:36 - loss: 0.0018 - acc: 0.9997Epoch 21/25\n",
      "8000/8000 [==============================] - 1033s 129ms/step - loss: 0.0018 - acc: 0.9996 - val_loss: 5.3055 - val_acc: 0.6446\n",
      "Epoch 24/25\n",
      "8000/8000 [==============================] - 1033s 129ms/step - loss: 0.0015 - acc: 0.9997 - val_loss: 5.6188 - val_acc: 0.6116\n"
     ]
    },
    {
     "data": {
      "text/plain": [
       "<keras.callbacks.History at 0x27973097f60>"
      ]
     },
     "execution_count": 21,
     "metadata": {},
     "output_type": "execute_result"
    }
   ],
   "source": [
    "classifier.fit_generator(training_set,\n",
    "                        steps_per_epoch=8000,\n",
    "                        epochs=25,\n",
    "                        validation_data=test_set,\n",
    "                        validation_steps=2000,\n",
    "                        workers=4\n",
    "                        )"
   ]
  },
  {
   "cell_type": "code",
   "execution_count": 28,
   "metadata": {},
   "outputs": [],
   "source": [
    "classifier.save_weights('25_epochs.h5')"
   ]
  },
  {
   "cell_type": "code",
   "execution_count": 37,
   "metadata": {},
   "outputs": [],
   "source": [
    "classifier.save_weights('25_epochs.csv')"
   ]
  },
  {
   "cell_type": "code",
   "execution_count": 41,
   "metadata": {},
   "outputs": [
    {
     "data": {
      "text/plain": [
       "[5.603264678608287, 0.6115702507909665]"
      ]
     },
     "execution_count": 41,
     "metadata": {},
     "output_type": "execute_result"
    }
   ],
   "source": [
    "# test loss and accuracy \n",
    "classifier.evaluate_generator(generator=test_set, steps = 20)"
   ]
  },
  {
   "cell_type": "code",
   "execution_count": 44,
   "metadata": {},
   "outputs": [
    {
     "data": {
      "text/plain": [
       "[1.0544469527394829e-07, 1.0]"
      ]
     },
     "execution_count": 44,
     "metadata": {},
     "output_type": "execute_result"
    }
   ],
   "source": [
    "# train loss and accuracy \n",
    "classifier.evaluate_generator(generator= training_set, steps = 20)\n",
    "# this is overfitting because the training accuracy is 100% and test is 60% "
   ]
  },
  {
   "cell_type": "code",
   "execution_count": 66,
   "metadata": {},
   "outputs": [],
   "source": [
    "STEP_SIZE_TRAIN =training_set.n//training_set.batch_size\n",
    "#STEP_SIZE_VALID =valid_generator.n//valid_generator.batch_size\n",
    "STEP_SIZE_TEST =test_set.n//test_set.batch_size\n",
    "#model.fit_generator(generator=train_generator, steps_per_epoch=STEP_SIZE_TRAIN, validation_data=valid_generator,validation_steps=STEP_SIZE_VALID, epochs=10"
   ]
  },
  {
   "cell_type": "code",
   "execution_count": 67,
   "metadata": {},
   "outputs": [
    {
     "name": "stdout",
     "output_type": "stream",
     "text": [
      "3/3 [==============================] - 0s 102ms/step\n"
     ]
    }
   ],
   "source": [
    "test_set.reset()\n",
    "pred=classifier.predict_generator(test_set,\n",
    "steps=STEP_SIZE_TEST,\n",
    "verbose=1)"
   ]
  },
  {
   "cell_type": "code",
   "execution_count": 69,
   "metadata": {},
   "outputs": [],
   "source": [
    "predicted_class_indices=np.argmax(pred,axis=1)"
   ]
  },
  {
   "cell_type": "code",
   "execution_count": 72,
   "metadata": {},
   "outputs": [
    {
     "data": {
      "text/plain": [
       "['impaired',\n",
       " 'impaired',\n",
       " 'impaired',\n",
       " 'impaired',\n",
       " 'impaired',\n",
       " 'impaired',\n",
       " 'impaired',\n",
       " 'impaired',\n",
       " 'impaired',\n",
       " 'impaired',\n",
       " 'impaired',\n",
       " 'impaired',\n",
       " 'impaired',\n",
       " 'impaired',\n",
       " 'impaired',\n",
       " 'impaired',\n",
       " 'impaired',\n",
       " 'impaired',\n",
       " 'impaired',\n",
       " 'impaired',\n",
       " 'impaired',\n",
       " 'impaired',\n",
       " 'impaired',\n",
       " 'impaired',\n",
       " 'impaired',\n",
       " 'impaired',\n",
       " 'impaired',\n",
       " 'impaired',\n",
       " 'impaired',\n",
       " 'impaired',\n",
       " 'impaired',\n",
       " 'impaired',\n",
       " 'impaired',\n",
       " 'impaired',\n",
       " 'impaired',\n",
       " 'impaired',\n",
       " 'impaired',\n",
       " 'impaired',\n",
       " 'impaired',\n",
       " 'impaired',\n",
       " 'impaired',\n",
       " 'impaired',\n",
       " 'impaired',\n",
       " 'impaired',\n",
       " 'impaired',\n",
       " 'impaired',\n",
       " 'impaired',\n",
       " 'impaired',\n",
       " 'impaired',\n",
       " 'impaired',\n",
       " 'impaired',\n",
       " 'impaired',\n",
       " 'impaired',\n",
       " 'impaired',\n",
       " 'impaired',\n",
       " 'impaired',\n",
       " 'impaired',\n",
       " 'impaired',\n",
       " 'impaired',\n",
       " 'impaired',\n",
       " 'impaired',\n",
       " 'impaired',\n",
       " 'impaired',\n",
       " 'impaired',\n",
       " 'impaired',\n",
       " 'impaired',\n",
       " 'impaired',\n",
       " 'impaired',\n",
       " 'impaired',\n",
       " 'impaired',\n",
       " 'impaired',\n",
       " 'impaired',\n",
       " 'impaired',\n",
       " 'impaired',\n",
       " 'impaired',\n",
       " 'impaired',\n",
       " 'impaired',\n",
       " 'impaired',\n",
       " 'impaired',\n",
       " 'impaired',\n",
       " 'impaired',\n",
       " 'impaired',\n",
       " 'impaired',\n",
       " 'impaired',\n",
       " 'impaired',\n",
       " 'impaired',\n",
       " 'impaired',\n",
       " 'impaired',\n",
       " 'impaired',\n",
       " 'impaired',\n",
       " 'impaired',\n",
       " 'impaired',\n",
       " 'impaired',\n",
       " 'impaired',\n",
       " 'impaired',\n",
       " 'impaired']"
      ]
     },
     "execution_count": 72,
     "metadata": {},
     "output_type": "execute_result"
    }
   ],
   "source": [
    "labels = (test_set.class_indices)\n",
    "labels = dict((v,k) for k,v in labels.items())\n",
    "predictions = [labels[k] for k in predicted_class_indices]\n",
    "predictions"
   ]
  },
  {
   "cell_type": "code",
   "execution_count": null,
   "metadata": {},
   "outputs": [],
   "source": []
  }
 ],
 "metadata": {
  "kernelspec": {
   "display_name": "Python 3",
   "language": "python",
   "name": "python3"
  },
  "language_info": {
   "codemirror_mode": {
    "name": "ipython",
    "version": 3
   },
   "file_extension": ".py",
   "mimetype": "text/x-python",
   "name": "python",
   "nbconvert_exporter": "python",
   "pygments_lexer": "ipython3",
   "version": "3.7.2"
  }
 },
 "nbformat": 4,
 "nbformat_minor": 2
}
